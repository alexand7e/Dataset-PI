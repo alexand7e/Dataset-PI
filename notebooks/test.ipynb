{
 "cells": [
  {
   "cell_type": "code",
   "execution_count": 1,
   "metadata": {},
   "outputs": [],
   "source": [
    "from ibge_api import SidraManager"
   ]
  },
  {
   "cell_type": "code",
   "execution_count": 2,
   "metadata": {},
   "outputs": [],
   "source": [
    "api = SidraManager()"
   ]
  },
  {
   "cell_type": "code",
   "execution_count": 4,
   "metadata": {},
   "outputs": [
    {
     "name": "stderr",
     "output_type": "stream",
     "text": [
      "2024-12-18 13:57:29,489 - INFO - Dados da tabela 9942 obtidos com sucesso.\n"
     ]
    },
    {
     "data": {
      "text/plain": [
       "{'id': 9942,\n",
       " 'nome': 'Moradores em domicílios particulares permanentes ocupados, por existência de conexão domiciliar à Internet, segundo a cor ou raça e os grupos de idade',\n",
       " 'URL': 'https://sidra.ibge.gov.br/tabela/9942',\n",
       " 'pesquisa': 'Censo Demográfico',\n",
       " 'assunto': 'Características do domicílio',\n",
       " 'periodicidade': {'frequencia': 'anual', 'inicio': 2022, 'fim': 2022},\n",
       " 'nivelTerritorial': {'Administrativo': ['N1', 'N2', 'N6', 'N3'],\n",
       "  'Especial': [],\n",
       "  'IBGE': []},\n",
       " 'variaveis': [{'id': 382,\n",
       "   'nome': 'Moradores em domicílios particulares permanentes ocupados',\n",
       "   'unidade': 'Pessoas',\n",
       "   'sumarizacao': ['nivelTerritorial']},\n",
       "  {'id': 1000382,\n",
       "   'nome': 'Moradores em domicílios particulares permanentes ocupados - percentual do total geral',\n",
       "   'unidade': '%',\n",
       "   'sumarizacao': []}],\n",
       " 'classificacoes': [{'id': 2072,\n",
       "   'nome': 'Existência de conexão domiciliar à Internet',\n",
       "   'sumarizacao': {'status': True, 'excecao': []},\n",
       "   'categorias': [{'id': 77584, 'nome': 'Total', 'unidade': None, 'nivel': 0},\n",
       "    {'id': 77585, 'nome': 'Sim', 'unidade': None, 'nivel': 1},\n",
       "    {'id': 77586, 'nome': 'Não', 'unidade': None, 'nivel': 1}]},\n",
       "  {'id': 86,\n",
       "   'nome': 'Cor ou raça',\n",
       "   'sumarizacao': {'status': True, 'excecao': []},\n",
       "   'categorias': [{'id': 95251, 'nome': 'Total', 'unidade': None, 'nivel': 0},\n",
       "    {'id': 2776, 'nome': 'Branca', 'unidade': None, 'nivel': 1},\n",
       "    {'id': 2777, 'nome': 'Preta', 'unidade': None, 'nivel': 1},\n",
       "    {'id': 2778, 'nome': 'Amarela', 'unidade': None, 'nivel': 1},\n",
       "    {'id': 2779, 'nome': 'Parda', 'unidade': None, 'nivel': 1},\n",
       "    {'id': 2780, 'nome': 'Indígena', 'unidade': None, 'nivel': 1}]},\n",
       "  {'id': 58,\n",
       "   'nome': 'Grupo de idade',\n",
       "   'sumarizacao': {'status': True, 'excecao': []},\n",
       "   'categorias': [{'id': 95253, 'nome': 'Total', 'unidade': None, 'nivel': 0},\n",
       "    {'id': 1140, 'nome': '0 a 4 anos', 'unidade': None, 'nivel': 1},\n",
       "    {'id': 1141, 'nome': '5 a 9 anos', 'unidade': None, 'nivel': 1},\n",
       "    {'id': 1142, 'nome': '10 a 14 anos', 'unidade': None, 'nivel': 1},\n",
       "    {'id': 1143, 'nome': '15 a 19 anos', 'unidade': None, 'nivel': 1},\n",
       "    {'id': 1144, 'nome': '20 a 24 anos', 'unidade': None, 'nivel': 1},\n",
       "    {'id': 1145, 'nome': '25 a 29 anos', 'unidade': None, 'nivel': 1},\n",
       "    {'id': 1146, 'nome': '30 a 34 anos', 'unidade': None, 'nivel': 1},\n",
       "    {'id': 1147, 'nome': '35 a 39 anos', 'unidade': None, 'nivel': 1},\n",
       "    {'id': 1148, 'nome': '40 a 44 anos', 'unidade': None, 'nivel': 1},\n",
       "    {'id': 1149, 'nome': '45 a 49 anos', 'unidade': None, 'nivel': 1},\n",
       "    {'id': 1150, 'nome': '50 a 54 anos', 'unidade': None, 'nivel': 1},\n",
       "    {'id': 1151, 'nome': '55 a 59 anos', 'unidade': None, 'nivel': 1},\n",
       "    {'id': 1152, 'nome': '60 a 64 anos', 'unidade': None, 'nivel': 1},\n",
       "    {'id': 1153, 'nome': '65 a 69 anos', 'unidade': None, 'nivel': 1},\n",
       "    {'id': 3244, 'nome': '70 anos ou mais', 'unidade': None, 'nivel': 1}]}]}"
      ]
     },
     "execution_count": 4,
     "metadata": {},
     "output_type": "execute_result"
    }
   ],
   "source": [
    "api.sidra_get_metadata(9942)"
   ]
  }
 ],
 "metadata": {
  "kernelspec": {
   "display_name": "Python 3",
   "language": "python",
   "name": "python3"
  },
  "language_info": {
   "codemirror_mode": {
    "name": "ipython",
    "version": 3
   },
   "file_extension": ".py",
   "mimetype": "text/x-python",
   "name": "python",
   "nbconvert_exporter": "python",
   "pygments_lexer": "ipython3",
   "version": "3.9.13"
  }
 },
 "nbformat": 4,
 "nbformat_minor": 2
}
