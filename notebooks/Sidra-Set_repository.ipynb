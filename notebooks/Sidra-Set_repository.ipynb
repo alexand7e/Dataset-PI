{
 "cells": [
  {
   "cell_type": "code",
   "execution_count": 11,
   "metadata": {},
   "outputs": [],
   "source": [
    "from sys import path as wd\n",
    "from os import path, getcwd\n",
    "from time import sleep\n",
    "import pandas as pd\n",
    "\n",
    "workdir = path.dirname(getcwd())\n",
    "wd.append(workdir)\n",
    "\n",
    "from dags.operadores import (GoogleSheetManager, GoogleDriveManager)\n",
    "from dags.estruturas import (InformationManager)\n",
    "from dags.configure_directory import (DirectoryManager)\n",
    "import json"
   ]
  },
  {
   "cell_type": "code",
   "execution_count": 12,
   "metadata": {},
   "outputs": [],
   "source": [
    "data_json = path.join(workdir, \"data\", \"__data__info.json\")\n",
    "local_dir = path.join(workdir, \"data\", \"processed - Copia\")\n",
    "final_dir = path.join(workdir, \"data\", \"formatted\")\n",
    "\n",
    "with open(data_json, 'r') as file:\n",
    "    info_data = json.load(file)\n",
    "\n",
    "#\n",
    "credentials_dir = path.join(workdir, \"data\", \"credentials.json\")\n",
    "folder_name = info_data[\"MainFolder\"][\"Name\"]\n",
    "knowledge_sheet_url = r'https://docs.google.com/spreadsheets/d/11-CI4nLXTte0OcDVMl-My4PtOdif7ziWB0GKg6hkJMw/edit?usp=sharing'#info_data[\"Knowledge base\"]"
   ]
  },
  {
   "cell_type": "code",
   "execution_count": 13,
   "metadata": {},
   "outputs": [],
   "source": [
    "# Classes\n",
    "sheet_manager = GoogleSheetManager(credentials_dir)\n",
    "drive_manager = GoogleDriveManager(credentials_dir, data_json)\n",
    "information_manager = InformationManager(knowledge_sheet_url)"
   ]
  },
  {
   "cell_type": "code",
   "execution_count": 14,
   "metadata": {},
   "outputs": [],
   "source": [
    "df_information = sheet_manager.get_data_info_from_url(knowledge_sheet_url)"
   ]
  },
  {
   "cell_type": "code",
   "execution_count": 15,
   "metadata": {},
   "outputs": [],
   "source": [
    "# dm = DirectoryManager(local_dir, final_dir)\n",
    "# dm.execute_organize_files(df_information)"
   ]
  },
  {
   "cell_type": "code",
   "execution_count": 16,
   "metadata": {},
   "outputs": [
    {
     "data": {
      "text/plain": [
       "{'id': '1KSA0jimLRA1ub990ud5ve8oPd5aN_QPH',\n",
       " 'name': 'Banco de Dados',\n",
       " 'mimeType': 'application/vnd.google-apps.folder'}"
      ]
     },
     "execution_count": 16,
     "metadata": {},
     "output_type": "execute_result"
    }
   ],
   "source": [
    "t = drive_manager.get_file_info_by_url(r'https://drive.google.com/drive/u/0/folders/1KSA0jimLRA1ub990ud5ve8oPd5aN_QPH')\n",
    "t"
   ]
  },
  {
   "cell_type": "code",
   "execution_count": 17,
   "metadata": {},
   "outputs": [],
   "source": [
    "content = drive_manager.list_all_files('1KSA0jimLRA1ub990ud5ve8oPd5aN_QPH')"
   ]
  },
  {
   "cell_type": "code",
   "execution_count": 22,
   "metadata": {},
   "outputs": [],
   "source": [
    "df = pd.json_normalize(content)\n",
    "df['url'] = df['id'].apply(lambda x: f'https://drive.google.com/file/d/{x}/view')\n",
    "df['tabela'] = df['name'].str.extract('(\\d+)')\n",
    "df.to_excel(path.join(r'C:\\Users\\usuario\\OneDrive\\Documentos\\R\\Banco de Dados\\Sidra-PI V2\\Sidra-PI V2\\data', \"tabelas_link.xlsx\"))"
   ]
  },
  {
   "cell_type": "code",
   "execution_count": 23,
   "metadata": {},
   "outputs": [
    {
     "data": {
      "text/html": [
       "<div>\n",
       "<style scoped>\n",
       "    .dataframe tbody tr th:only-of-type {\n",
       "        vertical-align: middle;\n",
       "    }\n",
       "\n",
       "    .dataframe tbody tr th {\n",
       "        vertical-align: top;\n",
       "    }\n",
       "\n",
       "    .dataframe thead th {\n",
       "        text-align: right;\n",
       "    }\n",
       "</style>\n",
       "<table border=\"1\" class=\"dataframe\">\n",
       "  <thead>\n",
       "    <tr style=\"text-align: right;\">\n",
       "      <th></th>\n",
       "      <th>id</th>\n",
       "      <th>name</th>\n",
       "      <th>type</th>\n",
       "      <th>url</th>\n",
       "      <th>tabela</th>\n",
       "    </tr>\n",
       "  </thead>\n",
       "  <tbody>\n",
       "    <tr>\n",
       "      <th>0</th>\n",
       "      <td>12cZlTA9BcUOfHkmDQJGJB4p1HuE3RE7t</td>\n",
       "      <td>Tabela 8463.xlsx</td>\n",
       "      <td>file</td>\n",
       "      <td>https://drive.google.com/file/d/12cZlTA9BcUOfH...</td>\n",
       "      <td>8463</td>\n",
       "    </tr>\n",
       "    <tr>\n",
       "      <th>1</th>\n",
       "      <td>1u_sS5ZlrPV3j3w9kRi3nPfvbXuxygPz3</td>\n",
       "      <td>Tabela 8456.xlsx</td>\n",
       "      <td>file</td>\n",
       "      <td>https://drive.google.com/file/d/1u_sS5ZlrPV3j3...</td>\n",
       "      <td>8456</td>\n",
       "    </tr>\n",
       "    <tr>\n",
       "      <th>2</th>\n",
       "      <td>14tFoIWg778k0pcQPyxDrUBu2S2hmjvxD</td>\n",
       "      <td>Tabela 8461.xlsx</td>\n",
       "      <td>file</td>\n",
       "      <td>https://drive.google.com/file/d/14tFoIWg778k0p...</td>\n",
       "      <td>8461</td>\n",
       "    </tr>\n",
       "    <tr>\n",
       "      <th>3</th>\n",
       "      <td>1kzcPntfXAUyR11E2KRZVmDtFoDjOUnyQ</td>\n",
       "      <td>Tabela 7219.xlsx</td>\n",
       "      <td>file</td>\n",
       "      <td>https://drive.google.com/file/d/1kzcPntfXAUyR1...</td>\n",
       "      <td>7219</td>\n",
       "    </tr>\n",
       "    <tr>\n",
       "      <th>4</th>\n",
       "      <td>1X1MwUpq643a_JY4LvD_7NX5c3_-vRmLR</td>\n",
       "      <td>Tabela 7260.xlsx</td>\n",
       "      <td>file</td>\n",
       "      <td>https://drive.google.com/file/d/1X1MwUpq643a_J...</td>\n",
       "      <td>7260</td>\n",
       "    </tr>\n",
       "    <tr>\n",
       "      <th>...</th>\n",
       "      <td>...</td>\n",
       "      <td>...</td>\n",
       "      <td>...</td>\n",
       "      <td>...</td>\n",
       "      <td>...</td>\n",
       "    </tr>\n",
       "    <tr>\n",
       "      <th>1728</th>\n",
       "      <td>1tV8NnxtPU-MO8Euxk1kCfhmYXgQ8ecZE</td>\n",
       "      <td>Tabela 4230.xlsx</td>\n",
       "      <td>file</td>\n",
       "      <td>https://drive.google.com/file/d/1tV8NnxtPU-MO8...</td>\n",
       "      <td>4230</td>\n",
       "    </tr>\n",
       "    <tr>\n",
       "      <th>1729</th>\n",
       "      <td>10RJ8B-6CZF9o5Yx7vkVgH7v5mKtCmJk0</td>\n",
       "      <td>Tabela 4215.xlsx</td>\n",
       "      <td>file</td>\n",
       "      <td>https://drive.google.com/file/d/10RJ8B-6CZF9o5...</td>\n",
       "      <td>4215</td>\n",
       "    </tr>\n",
       "    <tr>\n",
       "      <th>1730</th>\n",
       "      <td>1pEjyPziZ8p57yVL25FDo6QpnSJlS7xK_</td>\n",
       "      <td>Tabela 4218.xlsx</td>\n",
       "      <td>file</td>\n",
       "      <td>https://drive.google.com/file/d/1pEjyPziZ8p57y...</td>\n",
       "      <td>4218</td>\n",
       "    </tr>\n",
       "    <tr>\n",
       "      <th>1731</th>\n",
       "      <td>1kHszZxGH1PJSWM4JirQcOShx8qCPCL8F</td>\n",
       "      <td>Tabela 4209.xlsx</td>\n",
       "      <td>file</td>\n",
       "      <td>https://drive.google.com/file/d/1kHszZxGH1PJSW...</td>\n",
       "      <td>4209</td>\n",
       "    </tr>\n",
       "    <tr>\n",
       "      <th>1732</th>\n",
       "      <td>1caqPInK6jO8q87MPegBE8v__Dh7rCWcl</td>\n",
       "      <td>Tabela 4204.xlsx</td>\n",
       "      <td>file</td>\n",
       "      <td>https://drive.google.com/file/d/1caqPInK6jO8q8...</td>\n",
       "      <td>4204</td>\n",
       "    </tr>\n",
       "  </tbody>\n",
       "</table>\n",
       "<p>1733 rows × 5 columns</p>\n",
       "</div>"
      ],
      "text/plain": [
       "                                     id              name  type  \\\n",
       "0     12cZlTA9BcUOfHkmDQJGJB4p1HuE3RE7t  Tabela 8463.xlsx  file   \n",
       "1     1u_sS5ZlrPV3j3w9kRi3nPfvbXuxygPz3  Tabela 8456.xlsx  file   \n",
       "2     14tFoIWg778k0pcQPyxDrUBu2S2hmjvxD  Tabela 8461.xlsx  file   \n",
       "3     1kzcPntfXAUyR11E2KRZVmDtFoDjOUnyQ  Tabela 7219.xlsx  file   \n",
       "4     1X1MwUpq643a_JY4LvD_7NX5c3_-vRmLR  Tabela 7260.xlsx  file   \n",
       "...                                 ...               ...   ...   \n",
       "1728  1tV8NnxtPU-MO8Euxk1kCfhmYXgQ8ecZE  Tabela 4230.xlsx  file   \n",
       "1729  10RJ8B-6CZF9o5Yx7vkVgH7v5mKtCmJk0  Tabela 4215.xlsx  file   \n",
       "1730  1pEjyPziZ8p57yVL25FDo6QpnSJlS7xK_  Tabela 4218.xlsx  file   \n",
       "1731  1kHszZxGH1PJSWM4JirQcOShx8qCPCL8F  Tabela 4209.xlsx  file   \n",
       "1732  1caqPInK6jO8q87MPegBE8v__Dh7rCWcl  Tabela 4204.xlsx  file   \n",
       "\n",
       "                                                    url tabela  \n",
       "0     https://drive.google.com/file/d/12cZlTA9BcUOfH...   8463  \n",
       "1     https://drive.google.com/file/d/1u_sS5ZlrPV3j3...   8456  \n",
       "2     https://drive.google.com/file/d/14tFoIWg778k0p...   8461  \n",
       "3     https://drive.google.com/file/d/1kzcPntfXAUyR1...   7219  \n",
       "4     https://drive.google.com/file/d/1X1MwUpq643a_J...   7260  \n",
       "...                                                 ...    ...  \n",
       "1728  https://drive.google.com/file/d/1tV8NnxtPU-MO8...   4230  \n",
       "1729  https://drive.google.com/file/d/10RJ8B-6CZF9o5...   4215  \n",
       "1730  https://drive.google.com/file/d/1pEjyPziZ8p57y...   4218  \n",
       "1731  https://drive.google.com/file/d/1kHszZxGH1PJSW...   4209  \n",
       "1732  https://drive.google.com/file/d/1caqPInK6jO8q8...   4204  \n",
       "\n",
       "[1733 rows x 5 columns]"
      ]
     },
     "execution_count": 23,
     "metadata": {},
     "output_type": "execute_result"
    }
   ],
   "source": [
    "df"
   ]
  }
 ],
 "metadata": {
  "kernelspec": {
   "display_name": "Python 3",
   "language": "python",
   "name": "python3"
  },
  "language_info": {
   "codemirror_mode": {
    "name": "ipython",
    "version": 3
   },
   "file_extension": ".py",
   "mimetype": "text/x-python",
   "name": "python",
   "nbconvert_exporter": "python",
   "pygments_lexer": "ipython3",
   "version": "3.11.5"
  }
 },
 "nbformat": 4,
 "nbformat_minor": 2
}
