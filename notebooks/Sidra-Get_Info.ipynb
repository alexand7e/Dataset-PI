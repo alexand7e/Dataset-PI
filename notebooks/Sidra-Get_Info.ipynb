{
 "cells": [
  {
   "cell_type": "code",
   "execution_count": 6,
   "metadata": {},
   "outputs": [
    {
     "name": "stdout",
     "output_type": "stream",
     "text": [
      "c:\\Users\\usuario\\OneDrive\\Documentos\\R\\Banco de Dados\\Sidra-PI\n"
     ]
    }
   ],
   "source": [
    "from sys import path as wd\n",
    "from os import path, getcwd\n",
    "\n",
    "workdir = path.dirname(getcwd())\n",
    "\n",
    "wd.append(path.join(workdir, \"dags\"))\n",
    "\n",
    "from operadores import (GoogleSheetManager, GoogleDriveManager)\n",
    "from estruturas import (InformationBaseManager)\n",
    "from sidrapi import (Sidra_Data)\n",
    "\n",
    "import json\n",
    "import pandas as pd"
   ]
  },
  {
   "cell_type": "code",
   "execution_count": 3,
   "metadata": {},
   "outputs": [],
   "source": [
    "data_json = path.join(workdir, \"data\", \"__data__info.json\")\n",
    "local_path = path.join(workdir, \"data\", \"processed\")\n",
    "\n",
    "with open(data_json, 'r') as file:\n",
    "    info_data = json.load(file)"
   ]
  },
  {
   "cell_type": "markdown",
   "metadata": {},
   "source": []
  },
  {
   "cell_type": "code",
   "execution_count": 7,
   "metadata": {},
   "outputs": [],
   "source": [
    "CREDENTIALS_PATH = path.join(local_path, \"..\", \"credentials.json\")\n",
    "MAIN_FOLDER = info_data[\"MainFolder\"][\"Name\"]\n",
    "KNOWLEDGE_BASE = info_data[\"Knowledge base\"]\n",
    "\n",
    "# Classes\n",
    "sheet_manager = GoogleSheetManager(CREDENTIALS_PATH)\n",
    "drive_manager = GoogleDriveManager(CREDENTIALS_PATH, data_json)\n",
    "information_manager = InformationBaseManager(KNOWLEDGE_BASE)\n",
    "sidra_manager = Sidra_Data()"
   ]
  },
  {
   "cell_type": "code",
   "execution_count": 8,
   "metadata": {},
   "outputs": [],
   "source": [
    "df_information = sheet_manager.get_data_info_from_url(r'https://docs.google.com/spreadsheets/d/1ghxTewM8Zm8U-sMnn_Z8tJh0TUzLUiBgXWqNoj2WCzM/edit?usp=sharing')"
   ]
  },
  {
   "cell_type": "code",
   "execution_count": 9,
   "metadata": {},
   "outputs": [
    {
     "name": "stdout",
     "output_type": "stream",
     "text": [
      "Tabela 5917 - ok!\n",
      "Tabela 5918 - ok!\n",
      "Tabela 5919 - ok!\n",
      "Tabela 6403 - ok!\n",
      "Tabela 6462 - ok!\n",
      "Tabela 4092 - ok!\n",
      "Tabela 4093 - ok!\n",
      "Tabela 4094 - ok!\n",
      "Tabela 4095 - ok!\n",
      "Tabela 6402 - ok!\n",
      "Tabela 4099 - ok!\n",
      "Tabela 4100 - ok!\n",
      "Tabela 6396 - ok!\n",
      "Tabela 6397 - ok!\n",
      "Tabela 6398 - ok!\n",
      "Tabela 6399 - ok!\n",
      "Tabela 6463 - ok!\n",
      "Tabela 6461 - ok!\n",
      "Tabela 6466 - ok!\n",
      "Tabela 6467 - ok!\n",
      "Tabela 6468 - ok!\n",
      "Tabela 6482 - ok!\n",
      "Tabela 6483 - ok!\n",
      "Tabela 6484 - ok!\n",
      "Tabela 6485 - ok!\n",
      "Tabela 6813 - ok!\n",
      "Tabela 4096 - ok!\n",
      "Tabela 4097 - ok!\n",
      "Tabela 5434 - ok!\n",
      "Tabela 5435 - ok!\n",
      "Tabela 5947 - ok!\n",
      "Tabela 6371 - ok!\n",
      "Tabela 6372 - ok!\n",
      "Tabela 6373 - ok!\n",
      "Tabela 6406 - ok!\n",
      "Tabela 6374 - ok!\n",
      "Tabela 6382 - ok!\n",
      "Tabela 6383 - ok!\n",
      "Tabela 6384 - ok!\n",
      "Tabela 6385 - ok!\n",
      "Tabela 6386 - ok!\n",
      "Tabela 6464 - ok!\n",
      "Tabela 6465 - ok!\n",
      "Tabela 6459 - ok!\n",
      "Tabela 6460 - ok!\n",
      "Tabela 6808 - ok!\n",
      "Tabela 8517 - ok!\n",
      "Tabela 8529 - ok!\n",
      "Tabela 1616 - ok!\n",
      "Tabela 5436 - ok!\n",
      "Tabela 5437 - ok!\n",
      "Tabela 5438 - ok!\n",
      "Tabela 6405 - ok!\n",
      "Tabela 5439 - ok!\n",
      "Tabela 5440 - ok!\n",
      "Tabela 5442 - ok!\n",
      "Tabela 5444 - ok!\n",
      "Tabela 6472 - ok!\n",
      "Tabela 6469 - ok!\n",
      "Tabela 6470 - ok!\n",
      "Tabela 6471 - ok!\n",
      "Tabela 6473 - ok!\n",
      "Tabela 5606 - ok!\n",
      "Tabela 6421 - ok!\n",
      "Tabela 6474 - ok!\n",
      "Tabela 6475 - ok!\n"
     ]
    }
   ],
   "source": [
    "# Inicializando DataFrames vazios\n",
    "df_tabelas_concatenados = pd.DataFrame()\n",
    "df_variaveis_concatenados = pd.DataFrame()\n",
    "df_grupos_concatenados = pd.DataFrame()\n",
    "\n",
    "for idx, row in df_information.iterrows():\n",
    "    table_number = row[\"Número da Tabela\"]\n",
    "\n",
    "    content_api, df_table = sidra_manager.sidra_info(table_number)\n",
    "    df_variables, df_groups = sidra_manager.sidra_get_vars(content_api)\n",
    "\n",
    "    # Concatenando tabelas\n",
    "    df_tables_expanded = pd.json_normalize(df_table.to_dict('records'))\n",
    "    df_tables_expanded['Número da Tabela'] = table_number\n",
    "    df_tabelas_concatenados = pd.concat([df_tabelas_concatenados, df_tables_expanded], ignore_index=True)\n",
    "\n",
    "    # Tratando e concatenando variáveis\n",
    "    df_variables_expanded = pd.json_normalize(df_variables.to_dict('records')) if df_variables is not None else pd.DataFrame()\n",
    "    df_variables_expanded['Número da Tabela'] = table_number\n",
    "    df_variaveis_concatenados = pd.concat([df_variaveis_concatenados, df_variables_expanded], ignore_index=True)\n",
    "\n",
    "    # Tratando e concatenando grupos\n",
    "    df_groups_expanded = pd.json_normalize(df_groups.to_dict('records')) if df_variables is not None else pd.DataFrame()\n",
    "    df_groups_expanded['Número da Tabela'] = table_number\n",
    "    df_grupos_concatenados = pd.concat([df_grupos_concatenados, df_groups_expanded], ignore_index=True)\n",
    "\n",
    "\n",
    "# Salvando em Excel\n",
    "with pd.ExcelWriter(f'{local_path}\\dados_sidra.xlsx', engine='openpyxl') as writer:\n",
    "    df_tabelas_concatenados.to_excel(writer, sheet_name='Tabelas', index=False)\n",
    "    df_variaveis_concatenados.to_excel(writer, sheet_name='Variáveis', index=False)\n",
    "    df_grupos_concatenados.to_excel(writer, sheet_name='Grupos', index=False)"
   ]
  }
 ],
 "metadata": {
  "kernelspec": {
   "display_name": "Python 3",
   "language": "python",
   "name": "python3"
  },
  "language_info": {
   "codemirror_mode": {
    "name": "ipython",
    "version": 3
   },
   "file_extension": ".py",
   "mimetype": "text/x-python",
   "name": "python",
   "nbconvert_exporter": "python",
   "pygments_lexer": "ipython3",
   "version": "3.11.5"
  }
 },
 "nbformat": 4,
 "nbformat_minor": 2
}
