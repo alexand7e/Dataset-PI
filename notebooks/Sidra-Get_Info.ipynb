{
 "cells": [
  {
   "cell_type": "code",
   "execution_count": null,
   "metadata": {},
   "outputs": [],
   "source": [
    "from sys import path as wd\n",
    "from os import path, getcwd\n",
    "from tqdm import tqdm\n",
    "from time import sleep\n",
    "\n",
    "workdir = path.dirname(getcwd())\n",
    "wd.append(workdir)\n",
    "\n",
    "from dags.operadores import (GoogleSheetManager, GoogleDriveManager)\n",
    "from dags.estruturas import (InformationManager)\n",
    "from dags.sidrapi import (SidraManager)\n",
    "\n",
    "import json\n",
    "import pandas as pd"
   ]
  },
  {
   "cell_type": "code",
   "execution_count": null,
   "metadata": {},
   "outputs": [],
   "source": [
    "data_json = path.join(workdir, \"data\", \"__data__info.json\")\n",
    "local_dir = path.join(workdir, \"data\", \"processed\")\n",
    "\n",
    "with open(data_json, 'r') as file:\n",
    "    info_data = json.load(file)"
   ]
  },
  {
   "cell_type": "code",
   "execution_count": null,
   "metadata": {},
   "outputs": [],
   "source": [
    "# Nomeclaturas \n",
    "COLUMN_NAME = \"tabela\" # coluna com o nome da tabela\n",
    "TABLE_INDEX = 0"
   ]
  },
  {
   "cell_type": "markdown",
   "metadata": {},
   "source": []
  },
  {
   "cell_type": "code",
   "execution_count": null,
   "metadata": {},
   "outputs": [],
   "source": [
    "credentials_dir = path.join(workdir, \"data\", \"credentials.json\")\n",
    "folder_name = info_data[\"MainFolder\"][\"Name\"]\n",
    "knowledge_sheet_url = r'https://docs.google.com/spreadsheets/d/11-CI4nLXTte0OcDVMl-My4PtOdif7ziWB0GKg6hkJMw/edit?usp=sharing'#info_data[\"Knowledge base\"]\n",
    "\n",
    "# Classes\n",
    "sheet_manager = GoogleSheetManager(credentials_dir)\n",
    "sidra_manager = SidraManager()"
   ]
  },
  {
   "cell_type": "code",
   "execution_count": null,
   "metadata": {},
   "outputs": [],
   "source": [
    "df_information = sheet_manager.get_data_info_from_url(knowledge_sheet_url)"
   ]
  },
  {
   "cell_type": "code",
   "execution_count": null,
   "metadata": {},
   "outputs": [],
   "source": [
    "sidra_manager.sidra_get_metadata(5436)"
   ]
  },
  {
   "cell_type": "code",
   "execution_count": null,
   "metadata": {},
   "outputs": [],
   "source": [
    "# nova versão\n",
    "\n",
    "# Lista para armazenar os DataFrames\n",
    "lista_df_variaveis = pd.DataFrame()\n",
    "lista_df_categorias = pd.DataFrame()\n",
    "\n",
    "\n",
    "for idx, row in tqdm(df_information.iterrows(), total=df_information.shape[0], unit=\"Tabelas\"):\n",
    "    table_number = row[COLUMN_NAME]\n",
    "    dados = sidra_manager.sidra_get_metadata(table_number)\n",
    "    sleep(1)\n",
    "    if dados:\n",
    "        request_id = row[COLUMN_NAME]\n",
    "        df_variaveis = sidra_manager.sidra_process_variables(dados, request_id)\n",
    "        df_categorias = sidra_manager.sidra_process_categories(dados, request_id)\n",
    "\n",
    "        # Adicionando os DataFrames às respectivas listas\n",
    "        lista_df_variaveis = pd.concat([lista_df_variaveis, df_variaveis], ignore_index=True)    # lista_df_variaveis.append(df_variaveis)\n",
    "        lista_df_categorias = pd.concat([lista_df_categorias, df_categorias], ignore_index=True)    # lista_df_categorias.append(df_categorias)\n",
    "\n",
    "    else:\n",
    "        print(\"Falha ao obter dados.\")\n",
    "\n",
    "sidra_manager.retry_failed_requests() "
   ]
  },
  {
   "cell_type": "code",
   "execution_count": null,
   "metadata": {},
   "outputs": [],
   "source": [
    "lista_df_categorias"
   ]
  },
  {
   "cell_type": "code",
   "execution_count": null,
   "metadata": {},
   "outputs": [],
   "source": [
    "lista_df_variaveis"
   ]
  },
  {
   "cell_type": "code",
   "execution_count": null,
   "metadata": {},
   "outputs": [],
   "source": [
    "lista_df_variaveis.to_excel(f\"{local_dir}/variaveis_ajustadas.xlsx\", index=False)\n",
    "lista_df_categorias.to_excel(f\"{local_dir}/categorias_ajustadas.xlsx\", index=False)"
   ]
  },
  {
   "cell_type": "code",
   "execution_count": null,
   "metadata": {},
   "outputs": [],
   "source": [
    "if False: \n",
    "    # Initialize empty DataFrames\n",
    "    df_tabelas_concatenados = pd.DataFrame()\n",
    "    df_variaveis_concatenados = pd.DataFrame()\n",
    "    df_grupos_concatenados = pd.DataFrame()\n",
    "\n",
    "    # Iterate through rows in df_information\n",
    "    for idx, row in tqdm(df_information.iterrows(), total=df_information.shape[0]):\n",
    "        table_number = row[COLUMN_NAME]\n",
    "\n",
    "        try:\n",
    "            # Get data using sidra_manager.sidra_info\n",
    "            (api_content, df_table) = sidra_manager.sidra_info(table_number)\n",
    "            (df_variables, df_groups) = sidra_manager.sidra_get_vars(api_content)\n",
    "\n",
    "            # Concatenate tables\n",
    "            df_tables_expanded = pd.json_normalize(df_table.to_dict('records'))\n",
    "            df_tables_expanded[COLUMN_NAME] = table_number\n",
    "            df_tabelas_concatenados = pd.concat([df_tabelas_concatenados, df_tables_expanded], ignore_index=True)\n",
    "\n",
    "            # Treat and concatenate variables\n",
    "            df_variables_expanded = pd.json_normalize(df_variables.to_dict('records')) if df_variables is not None else pd.DataFrame()\n",
    "            df_variables_expanded[COLUMN_NAME] = table_number\n",
    "            df_variaveis_concatenados = pd.concat([df_variaveis_concatenados, df_variables_expanded], ignore_index=True)\n",
    "\n",
    "            # Treat and concatenate groups\n",
    "            df_groups_expanded = pd.json_normalize(df_groups.to_dict('records')) if df_variables is not None else pd.DataFrame()\n",
    "            df_groups_expanded[COLUMN_NAME] = table_number\n",
    "            df_grupos_concatenados = pd.concat([df_grupos_concatenados, df_groups_expanded], ignore_index=True)\n",
    "\n",
    "            sleep(1)  # delay\n",
    "\n",
    "        except Exception as e:\n",
    "            print(f\"An error occurred for table number {table_number}: {e}\")\n",
    "            sleep(10)\n",
    "            continue  \n",
    "\n",
    "    # Saving to Excel\n",
    "    try:\n",
    "        with pd.ExcelWriter(f'{local_dir}\\dados_sidra.xlsx', engine='openpyxl') as writer:\n",
    "            df_tabelas_concatenados.to_excel(writer, sheet_name='Tabelas', index=False)\n",
    "            df_variaveis_concatenados.to_excel(writer, sheet_name='Variáveis', index=False)\n",
    "            df_grupos_concatenados.to_excel(writer, sheet_name='Grupos', index=False)\n",
    "    except Exception as e:\n",
    "        print(f\"An error occurred while saving to Excel: {e}\")"
   ]
  },
  {
   "cell_type": "code",
   "execution_count": null,
   "metadata": {},
   "outputs": [],
   "source": [
    "if False:\n",
    "    import re\n",
    "    # test = [item.split(\"(\")[0] for item in df_tabelas_concatenados['Tipo do Período'].tolist()]\n",
    "    # test2 = [re.findall(r'\\((.*?)\\)', item)[0] for item in df_tabelas_concatenados['Tipo do Período'].tolist()]\n",
    "\n",
    "    test3 = df_tabelas_concatenados.copy()\n",
    "    test3['Número de Períodos'] = test3['Tipo do Período'].apply(lambda x: re.findall(r'\\((.*?)\\)', x)[0] if re.findall(r'\\((.*?)\\)', x) else None)\n",
    "    test3['Tipo do Período'] = test3['Tipo do Período'].apply(lambda x: x.split(\"(\")[0] if \"(\" in x else \"\")"
   ]
  }
 ],
 "metadata": {
  "kernelspec": {
   "display_name": "Python 3",
   "language": "python",
   "name": "python3"
  },
  "language_info": {
   "codemirror_mode": {
    "name": "ipython",
    "version": 3
   },
   "file_extension": ".py",
   "mimetype": "text/x-python",
   "name": "python",
   "nbconvert_exporter": "python",
   "pygments_lexer": "ipython3",
   "version": "3.11.5"
  }
 },
 "nbformat": 4,
 "nbformat_minor": 2
}
