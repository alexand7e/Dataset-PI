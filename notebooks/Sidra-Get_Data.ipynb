{
 "cells": [
  {
   "cell_type": "code",
   "execution_count": 1,
   "metadata": {},
   "outputs": [],
   "source": [
    "import sys\n",
    "import pandas as pd\n",
    "sys.path.append(r'C:\\Users\\alexa\\OneDrive\\Documentos\\R\\Banco de Dados\\Sidra-PI\\dags')\n",
    "\n",
    "from _managers import (GoogleSheetManager, GoogleDriveManager)\n",
    "from _estrutures import (InformationBaseManager)\n",
    "from sidrapi import (Sidra_Data)\n",
    "import json"
   ]
  },
  {
   "cell_type": "code",
   "execution_count": 2,
   "metadata": {},
   "outputs": [],
   "source": [
    "INFORMATION_PATH = r\"C:\\Users\\alexa\\OneDrive\\Documentos\\R\\Banco de Dados\\Sidra-PI\\data\\__data__info.json\"\n",
    "DATA_PATH = r\"C:\\Users\\alexa\\OneDrive\\Documentos\\R\\Banco de Dados\\Sidra-PI\\data\\processed\"\n",
    "\n",
    "with open(INFORMATION_PATH, 'r') as file:\n",
    "    info_data = json.load(file)"
   ]
  },
  {
   "cell_type": "code",
   "execution_count": 3,
   "metadata": {},
   "outputs": [],
   "source": [
    "CREDENTIALS_PATH = info_data[\"Local Credentials\"]\n",
    "MAIN_FOLDER = info_data[\"MainFolder\"][\"Name\"]\n",
    "KNOWLEDGE_BASE = info_data[\"Knowledge base\"]\n",
    "\n",
    "# Classes\n",
    "sheet_manager = GoogleSheetManager(CREDENTIALS_PATH)\n",
    "drive_manager = GoogleDriveManager(CREDENTIALS_PATH, INFORMATION_PATH)\n",
    "information_manager = InformationBaseManager(KNOWLEDGE_BASE)\n",
    "sidra_manager = Sidra_Data()"
   ]
  },
  {
   "cell_type": "code",
   "execution_count": 4,
   "metadata": {},
   "outputs": [],
   "source": [
    "df_tabelas_concatenados = pd.read_excel(r\"C:\\Users\\alexa\\OneDrive\\Documentos\\R\\Banco de Dados\\Sidra-PI\\data\\processed\\dados_sidra.xlsx\", sheet_name=\"Tabelas\")\n",
    "df_variaveis_concatenados = pd.read_excel(r\"C:\\Users\\alexa\\OneDrive\\Documentos\\R\\Banco de Dados\\Sidra-PI\\data\\processed\\dados_sidra.xlsx\", sheet_name=\"Variáveis\")"
   ]
  },
  {
   "cell_type": "code",
   "execution_count": 5,
   "metadata": {},
   "outputs": [],
   "source": [
    "for idx, row in df_tabelas_concatenados.iterrows():\n",
    "    num_tb = row[\"Número da Tabela\"]\n",
    "    tb_var = df_variaveis_concatenados[df_variaveis_concatenados[\"Número da Tabela\"] == num_tb]\n",
    "\n",
    "    pages_data = []\n",
    "    pages_names = []\n",
    "\n",
    "    for i, row_var in tb_var.iterrows():\n",
    "        df = sidra_manager.fetch_sidra_data(t=num_tb, \n",
    "                                            v=row_var[\"Número da Variável\"],\n",
    "                                            c=row[\"Classificador da Tabela\"])\n",
    "        pages_data.append(df)\n",
    "        nome_aba = row_var[\"Descrição\"].split(\"-\")[0]\n",
    "        # Removendo caracteres inválidos e limitando o comprimento\n",
    "        nome_aba = nome_aba.translate({ord(c): None for c in '\\\\/*?:\"[]'})\n",
    "        nome_aba = nome_aba[:31]  # Limitando a 31 caracteres\n",
    "        pages_names.append(nome_aba)\n",
    "\n",
    "    # Salvando os DataFrames como abas diferentes em um arquivo Excel\n",
    "    with pd.ExcelWriter(f'{DATA_PATH}\\\\{row[\"Nome da Tabela\"][:20]}.xlsx', engine='openpyxl') as writer:\n",
    "        for df, nome_aba in zip(pages_data, pages_names):\n",
    "            df.to_excel(writer, sheet_name=nome_aba, index=False)\n"
   ]
  }
 ],
 "metadata": {
  "kernelspec": {
   "display_name": "Python 3",
   "language": "python",
   "name": "python3"
  },
  "language_info": {
   "codemirror_mode": {
    "name": "ipython",
    "version": 3
   },
   "file_extension": ".py",
   "mimetype": "text/x-python",
   "name": "python",
   "nbconvert_exporter": "python",
   "pygments_lexer": "ipython3",
   "version": "3.11.5"
  }
 },
 "nbformat": 4,
 "nbformat_minor": 2
}
